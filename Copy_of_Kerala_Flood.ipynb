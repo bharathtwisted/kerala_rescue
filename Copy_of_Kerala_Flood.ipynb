{
 "cells": [
  {
   "cell_type": "code",
   "execution_count": 1,
   "metadata": {
    "colab": {},
    "colab_type": "code",
    "id": "a6PjV-NZCTKw"
   },
   "outputs": [],
   "source": [
    "import numpy as np\n",
    "import pandas as pd\n",
    "import json\n",
    "import requests\n",
    "import matplotlib.pyplot as plt\n",
    "%matplotlib inline"
   ]
  },
  {
   "cell_type": "code",
   "execution_count": 2,
   "metadata": {
    "colab": {},
    "colab_type": "code",
    "id": "jgwx3JMHCTK0"
   },
   "outputs": [],
   "source": [
    "url = 'https://keralarescue.in/data/'\n",
    "data = requests.get(url)\n",
    "data = json.loads(data.text)"
   ]
  },
  {
   "cell_type": "code",
   "execution_count": 3,
   "metadata": {
    "colab": {},
    "colab_type": "code",
    "id": "AV81CAF6CTK4"
   },
   "outputs": [],
   "source": [
    "df = pd.DataFrame(data)"
   ]
  },
  {
   "cell_type": "code",
   "execution_count": 4,
   "metadata": {
    "colab": {
     "base_uri": "https://localhost:8080/",
     "height": 34
    },
    "colab_type": "code",
    "id": "CO4qOBB5CTK7",
    "outputId": "d9294bc5-50e3-4a4f-bcc5-36c0f92a6eb5"
   },
   "outputs": [
    {
     "data": {
      "text/plain": [
       "(7807, 26)"
      ]
     },
     "execution_count": 4,
     "metadata": {},
     "output_type": "execute_result"
    }
   ],
   "source": [
    "df.shape"
   ]
  },
  {
   "cell_type": "code",
   "execution_count": 7,
   "metadata": {
    "colab": {
     "base_uri": "https://localhost:8080/",
     "height": 3893
    },
    "colab_type": "code",
    "id": "vae4XhV6CTLN",
    "outputId": "afe5c2ec-79b4-4283-c36b-98067abd0070"
   },
   "outputs": [],
   "source": [
    "df.to_csv('C:/Users/Darshik/Desktop/graph.csv')"
   ]
  },
  {
   "cell_type": "code",
   "execution_count": 47,
   "metadata": {
    "colab": {
     "base_uri": "https://localhost:8080/",
     "height": 272
    },
    "colab_type": "code",
    "id": "yTjIXmXtCTLR",
    "outputId": "3d5bfdd1-2582-4051-8b70-1d2bb22dbc49"
   },
   "outputs": [
    {
     "data": {
      "text/plain": [
       "ekm    2680\n",
       "ptm    1490\n",
       "alp    1391\n",
       "tcr    1175\n",
       "idk      50\n",
       "tvm      27\n",
       "ktm      27\n",
       "kol      22\n",
       "mpm      21\n",
       "koz      15\n",
       "pkd      13\n",
       "knr       6\n",
       "wnd       5\n",
       "ksr       5\n",
       "Name: district, dtype: int64"
      ]
     },
     "execution_count": 47,
     "metadata": {},
     "output_type": "execute_result"
    }
   ],
   "source": [
    "df['district'].value_counts()"
   ]
  },
  {
   "cell_type": "code",
   "execution_count": 48,
   "metadata": {
    "colab": {
     "base_uri": "https://localhost:8080/",
     "height": 583
    },
    "colab_type": "code",
    "id": "9nyFMFpxFguN",
    "outputId": "5e4516a4-efa2-4d22-dec4-f11233b94fb5"
   },
   "outputs": [
    {
     "name": "stdout",
     "output_type": "stream",
     "text": [
      "High five! You successfully sent some data to your account on plotly. View your plot in your browser at https://plot.ly/~d4rshik/0 or inside your plot.ly account where it is named 'pandas-bar-chart'\n"
     ]
    },
    {
     "data": {
      "text/html": [
       "<iframe id=\"igraph\" scrolling=\"no\" style=\"border:none;\" seamless=\"seamless\" src=\"https://plot.ly/~d4rshik/0.embed\" height=\"525px\" width=\"100%\"></iframe>"
      ],
      "text/plain": [
       "<plotly.tools.PlotlyDisplay object>"
      ]
     },
     "execution_count": 48,
     "metadata": {},
     "output_type": "execute_result"
    }
   ],
   "source": [
    "import plotly.plotly as py\n",
    "import plotly.graph_objs as go\n",
    "py.sign_in(username='d4rshik', api_key='kkAfh9cMnb5NdljPyERg')\n",
    "data = [\n",
    "    go.Bar(\n",
    "        x=df['district'].unique(), # assign x as the dataframe column 'x'\n",
    "        y=df['district'].value_counts()\n",
    "    )\n",
    "]\n",
    "py.iplot(data, filename='pandas-bar-chart')"
   ]
  },
  {
   "cell_type": "code",
   "execution_count": 49,
   "metadata": {
    "colab": {},
    "colab_type": "code",
    "id": "clzMjUiUCTLt"
   },
   "outputs": [],
   "source": [
    "df_new = df.groupby('district')"
   ]
  },
  {
   "cell_type": "code",
   "execution_count": 50,
   "metadata": {
    "colab": {
     "base_uri": "https://localhost:8080/",
     "height": 289
    },
    "colab_type": "code",
    "id": "J2tK2kL-CTL5",
    "outputId": "b6e2c08b-1bab-4b5d-d173-a93bbaeb8458"
   },
   "outputs": [
    {
     "data": {
      "text/plain": [
       "district\n",
       "alp     98.0\n",
       "ekm    159.0\n",
       "idk      5.0\n",
       "knr      0.0\n",
       "kol      5.0\n",
       "koz      2.0\n",
       "ksr      1.0\n",
       "ktm      0.0\n",
       "mpm      1.0\n",
       "pkd      1.0\n",
       "ptm    143.0\n",
       "tcr     70.0\n",
       "tvm      3.0\n",
       "wnd      2.0\n",
       "Name: needmed, dtype: float64"
      ]
     },
     "execution_count": 50,
     "metadata": {},
     "output_type": "execute_result"
    }
   ],
   "source": [
    "#district wise\n",
    "df_new['needmed'].sum()"
   ]
  },
  {
   "cell_type": "code",
   "execution_count": 51,
   "metadata": {
    "colab": {
     "base_uri": "https://localhost:8080/",
     "height": 338
    },
    "colab_type": "code",
    "id": "NG0SpldGCTL-",
    "outputId": "28c6af42-8d1e-4f1f-a98c-62625779aa95"
   },
   "outputs": [
    {
     "data": {
      "text/html": [
       "<div>\n",
       "<style scoped>\n",
       "    .dataframe tbody tr th:only-of-type {\n",
       "        vertical-align: middle;\n",
       "    }\n",
       "\n",
       "    .dataframe tbody tr th {\n",
       "        vertical-align: top;\n",
       "    }\n",
       "\n",
       "    .dataframe thead th {\n",
       "        text-align: right;\n",
       "    }\n",
       "</style>\n",
       "<table border=\"1\" class=\"dataframe\">\n",
       "  <thead>\n",
       "    <tr style=\"text-align: right;\">\n",
       "      <th></th>\n",
       "      <th>dateadded</th>\n",
       "      <th>detailcloth</th>\n",
       "      <th>detailfood</th>\n",
       "      <th>detailkit_util</th>\n",
       "      <th>detailmed</th>\n",
       "      <th>detailrescue</th>\n",
       "      <th>detailtoilet</th>\n",
       "      <th>detailwater</th>\n",
       "      <th>district</th>\n",
       "      <th>id</th>\n",
       "      <th>...</th>\n",
       "      <th>needkit_util</th>\n",
       "      <th>needmed</th>\n",
       "      <th>needothers</th>\n",
       "      <th>needrescue</th>\n",
       "      <th>needtoilet</th>\n",
       "      <th>needwater</th>\n",
       "      <th>requestee</th>\n",
       "      <th>requestee_phone</th>\n",
       "      <th>status</th>\n",
       "      <th>supply_details</th>\n",
       "    </tr>\n",
       "  </thead>\n",
       "  <tbody>\n",
       "    <tr>\n",
       "      <th>156</th>\n",
       "      <td>2018-08-16T11:19:33.882Z</td>\n",
       "      <td></td>\n",
       "      <td></td>\n",
       "      <td></td>\n",
       "      <td>tegritol CR 400</td>\n",
       "      <td></td>\n",
       "      <td></td>\n",
       "      <td></td>\n",
       "      <td>wnd</td>\n",
       "      <td>7591</td>\n",
       "      <td>...</td>\n",
       "      <td>False</td>\n",
       "      <td>True</td>\n",
       "      <td></td>\n",
       "      <td>False</td>\n",
       "      <td>False</td>\n",
       "      <td>False</td>\n",
       "      <td>Abhilash As</td>\n",
       "      <td>9747681068</td>\n",
       "      <td>new</td>\n",
       "      <td></td>\n",
       "    </tr>\n",
       "    <tr>\n",
       "      <th>170</th>\n",
       "      <td>2018-08-16T11:28:05.770Z</td>\n",
       "      <td></td>\n",
       "      <td></td>\n",
       "      <td></td>\n",
       "      <td></td>\n",
       "      <td></td>\n",
       "      <td></td>\n",
       "      <td></td>\n",
       "      <td>wnd</td>\n",
       "      <td>7651</td>\n",
       "      <td>...</td>\n",
       "      <td>True</td>\n",
       "      <td>True</td>\n",
       "      <td></td>\n",
       "      <td>False</td>\n",
       "      <td>True</td>\n",
       "      <td>True</td>\n",
       "      <td>Sharvan</td>\n",
       "      <td>9790140045</td>\n",
       "      <td>new</td>\n",
       "      <td></td>\n",
       "    </tr>\n",
       "    <tr>\n",
       "      <th>405</th>\n",
       "      <td>2018-08-16T13:36:21.667Z</td>\n",
       "      <td></td>\n",
       "      <td></td>\n",
       "      <td></td>\n",
       "      <td></td>\n",
       "      <td>11 people stuck</td>\n",
       "      <td></td>\n",
       "      <td></td>\n",
       "      <td>wnd</td>\n",
       "      <td>8664</td>\n",
       "      <td>...</td>\n",
       "      <td>False</td>\n",
       "      <td>False</td>\n",
       "      <td></td>\n",
       "      <td>True</td>\n",
       "      <td>False</td>\n",
       "      <td>False</td>\n",
       "      <td>Pinky Paul</td>\n",
       "      <td>9446905202</td>\n",
       "      <td>new</td>\n",
       "      <td></td>\n",
       "    </tr>\n",
       "    <tr>\n",
       "      <th>2299</th>\n",
       "      <td>2018-08-16T18:54:17.453Z</td>\n",
       "      <td></td>\n",
       "      <td></td>\n",
       "      <td></td>\n",
       "      <td></td>\n",
       "      <td></td>\n",
       "      <td></td>\n",
       "      <td></td>\n",
       "      <td>wnd</td>\n",
       "      <td>13365</td>\n",
       "      <td>...</td>\n",
       "      <td>False</td>\n",
       "      <td>False</td>\n",
       "      <td></td>\n",
       "      <td>True</td>\n",
       "      <td>False</td>\n",
       "      <td>False</td>\n",
       "      <td>03 FAMILIES</td>\n",
       "      <td>7736273343</td>\n",
       "      <td>new</td>\n",
       "      <td></td>\n",
       "    </tr>\n",
       "    <tr>\n",
       "      <th>5259</th>\n",
       "      <td>2018-08-17T08:42:21.169Z</td>\n",
       "      <td></td>\n",
       "      <td></td>\n",
       "      <td></td>\n",
       "      <td></td>\n",
       "      <td></td>\n",
       "      <td></td>\n",
       "      <td></td>\n",
       "      <td>wnd</td>\n",
       "      <td>21187</td>\n",
       "      <td>...</td>\n",
       "      <td>False</td>\n",
       "      <td>False</td>\n",
       "      <td></td>\n",
       "      <td>True</td>\n",
       "      <td>False</td>\n",
       "      <td>False</td>\n",
       "      <td>pramod</td>\n",
       "      <td>9895680074</td>\n",
       "      <td>new</td>\n",
       "      <td></td>\n",
       "    </tr>\n",
       "  </tbody>\n",
       "</table>\n",
       "<p>5 rows × 26 columns</p>\n",
       "</div>"
      ],
      "text/plain": [
       "                     dateadded detailcloth detailfood detailkit_util  \\\n",
       "156   2018-08-16T11:19:33.882Z                                         \n",
       "170   2018-08-16T11:28:05.770Z                                         \n",
       "405   2018-08-16T13:36:21.667Z                                         \n",
       "2299  2018-08-16T18:54:17.453Z                                         \n",
       "5259  2018-08-17T08:42:21.169Z                                         \n",
       "\n",
       "            detailmed     detailrescue detailtoilet detailwater district  \\\n",
       "156   tegritol CR 400                                                wnd   \n",
       "170                                                                  wnd   \n",
       "405                    11 people stuck                               wnd   \n",
       "2299                                                                 wnd   \n",
       "5259                                                                 wnd   \n",
       "\n",
       "         id       ...        needkit_util needmed needothers needrescue  \\\n",
       "156    7591       ...               False    True                 False   \n",
       "170    7651       ...                True    True                 False   \n",
       "405    8664       ...               False   False                  True   \n",
       "2299  13365       ...               False   False                  True   \n",
       "5259  21187       ...               False   False                  True   \n",
       "\n",
       "      needtoilet  needwater    requestee  requestee_phone status  \\\n",
       "156        False      False  Abhilash As       9747681068    new   \n",
       "170         True       True      Sharvan       9790140045    new   \n",
       "405        False      False   Pinky Paul       9446905202    new   \n",
       "2299       False      False  03 FAMILIES       7736273343    new   \n",
       "5259       False      False       pramod       9895680074    new   \n",
       "\n",
       "      supply_details  \n",
       "156                   \n",
       "170                   \n",
       "405                   \n",
       "2299                  \n",
       "5259                  \n",
       "\n",
       "[5 rows x 26 columns]"
      ]
     },
     "execution_count": 51,
     "metadata": {},
     "output_type": "execute_result"
    }
   ],
   "source": [
    "df.loc[df['district']=='wnd']"
   ]
  },
  {
   "cell_type": "code",
   "execution_count": 52,
   "metadata": {
    "colab": {
     "base_uri": "https://localhost:8080/",
     "height": 289
    },
    "colab_type": "code",
    "id": "CXsX4yBiCTME",
    "outputId": "b311f6aa-066e-4c21-bda5-8251096674f0"
   },
   "outputs": [
    {
     "data": {
      "text/plain": [
       "district\n",
       "alp    371.0\n",
       "ekm    656.0\n",
       "idk      4.0\n",
       "knr      1.0\n",
       "kol      6.0\n",
       "koz      1.0\n",
       "ksr      2.0\n",
       "ktm      6.0\n",
       "mpm      4.0\n",
       "pkd      2.0\n",
       "ptm    415.0\n",
       "tcr    239.0\n",
       "tvm     10.0\n",
       "wnd      1.0\n",
       "Name: needwater, dtype: float64"
      ]
     },
     "execution_count": 52,
     "metadata": {},
     "output_type": "execute_result"
    }
   ],
   "source": [
    "df_new['needwater'].sum()"
   ]
  },
  {
   "cell_type": "code",
   "execution_count": 53,
   "metadata": {
    "colab": {
     "base_uri": "https://localhost:8080/",
     "height": 289
    },
    "colab_type": "code",
    "id": "tZA3WqvxCTMN",
    "outputId": "ccfb0765-6cad-4fb7-9ad6-daf4be768039"
   },
   "outputs": [
    {
     "data": {
      "text/plain": [
       "district\n",
       "alp    47.0\n",
       "ekm    79.0\n",
       "idk     2.0\n",
       "knr     0.0\n",
       "kol     5.0\n",
       "koz     2.0\n",
       "ksr     1.0\n",
       "ktm     0.0\n",
       "mpm     5.0\n",
       "pkd     0.0\n",
       "ptm    55.0\n",
       "tcr    36.0\n",
       "tvm     2.0\n",
       "wnd     1.0\n",
       "Name: needtoilet, dtype: float64"
      ]
     },
     "execution_count": 53,
     "metadata": {},
     "output_type": "execute_result"
    }
   ],
   "source": [
    "df_new['needtoilet'].sum()"
   ]
  },
  {
   "cell_type": "code",
   "execution_count": 54,
   "metadata": {
    "colab": {
     "base_uri": "https://localhost:8080/",
     "height": 546
    },
    "colab_type": "code",
    "id": "LsEhIvWARD56",
    "outputId": "80d55e2c-9b8a-4a86-e3d0-ea185f73c325"
   },
   "outputs": [
    {
     "data": {
      "text/html": [
       "<iframe id=\"igraph\" scrolling=\"no\" style=\"border:none;\" seamless=\"seamless\" src=\"https://plot.ly/~d4rshik/2.embed\" height=\"525px\" width=\"100%\"></iframe>"
      ],
      "text/plain": [
       "<plotly.tools.PlotlyDisplay object>"
      ]
     },
     "execution_count": 54,
     "metadata": {},
     "output_type": "execute_result"
    }
   ],
   "source": [
    "labels = df['district'].unique()\n",
    "values = df_new['needkit_util'].sum()\n",
    "\n",
    "trace = go.Pie(labels=labels, values=values)\n",
    "\n",
    "py.iplot([trace], filename='basic_pie_chart')"
   ]
  },
  {
   "cell_type": "code",
   "execution_count": 55,
   "metadata": {
    "colab": {},
    "colab_type": "code",
    "id": "UIyyiR6fCTMe"
   },
   "outputs": [],
   "source": [
    "c = df['latlng']"
   ]
  },
  {
   "cell_type": "code",
   "execution_count": 56,
   "metadata": {
    "colab": {},
    "colab_type": "code",
    "id": "GeXJwSUfgyvs"
   },
   "outputs": [],
   "source": [
    "s = str(c[3])"
   ]
  },
  {
   "cell_type": "code",
   "execution_count": 57,
   "metadata": {
    "colab": {
     "base_uri": "https://localhost:8080/",
     "height": 34
    },
    "colab_type": "code",
    "id": "COFMUB_ThIyR",
    "outputId": "5538efe5-fa57-4c28-f178-89a6958a72b9"
   },
   "outputs": [
    {
     "data": {
      "text/plain": [
       "['10.3470498', '76.2086201']"
      ]
     },
     "execution_count": 57,
     "metadata": {},
     "output_type": "execute_result"
    }
   ],
   "source": [
    "s.split(',')"
   ]
  },
  {
   "cell_type": "code",
   "execution_count": 92,
   "metadata": {
    "colab": {},
    "colab_type": "code",
    "id": "o8AZJw9pjLk9"
   },
   "outputs": [],
   "source": [
    "lt=[]\n",
    "lg=[]\n",
    "for i in c:\n",
    "    l=str(i).split(',')\n",
    "    if len(l) == 2:\n",
    "      lt.append(l[0])\n",
    "      lg.append(l[1])"
   ]
  },
  {
   "cell_type": "code",
   "execution_count": 93,
   "metadata": {
    "colab": {},
    "colab_type": "code",
    "id": "AEWBXynJmK_-"
   },
   "outputs": [],
   "source": [
    "exlt = []\n",
    "exlg  = []\n",
    "def floatif(a):\n",
    "    try:\n",
    "        float(a)\n",
    "    except ValueError:\n",
    "        return False"
   ]
  },
  {
   "cell_type": "code",
   "execution_count": 102,
   "metadata": {
    "colab": {},
    "colab_type": "code",
    "id": "_IxyFL0QoH7j"
   },
   "outputs": [],
   "source": [
    "ult = []\n",
    "ulg = []\n",
    "for i,j in zip(lt, lg):\n",
    "    if floatif(i) != False and floatif(j) != False:\n",
    "        ult.append(float(i))\n",
    "        ulg.append(float(j))"
   ]
  },
  {
   "cell_type": "code",
   "execution_count": 103,
   "metadata": {
    "colab": {
     "base_uri": "https://localhost:8080/",
     "height": 34
    },
    "colab_type": "code",
    "id": "HTfECZzpoW6R",
    "outputId": "963404da-bf88-4ad3-c769-899b8a91f1ad"
   },
   "outputs": [
    {
     "name": "stdout",
     "output_type": "stream",
     "text": [
      "                   0\n",
      "76.323020  10.002130\n",
      "76.644701  10.720816\n",
      "77.155886   9.737042\n",
      "76.208620  10.347050\n",
      "76.881062   8.556531\n",
      "76.537084   9.338959\n",
      "54.615506  24.317082\n",
      "76.323385  10.335560\n",
      "75.414174  11.986699\n",
      "76.333252  10.034178\n",
      "75.734802  11.391984\n",
      "76.580498   9.334115\n",
      "76.271083  10.850516\n",
      "12.520080  55.785551\n",
      "77.296089  28.545661\n",
      "47.986255  29.378995\n",
      "50.576963  26.234136\n",
      "50.577146  26.233808\n",
      "80.216064  13.049856\n",
      "75.414174  11.986699\n",
      "76.088165  11.047609\n",
      "77.601997  12.962202\n",
      "76.689997   9.347870\n",
      "55.383746  25.265404\n",
      "76.318364  10.176053\n",
      "76.435687  10.075659\n",
      "75.414174  11.986699\n",
      "76.288544  10.062263\n",
      "76.364280   9.382473\n",
      "76.943676   8.518463\n",
      "...              ...\n",
      "76.344915  10.291780\n",
      "76.161924  10.828255\n",
      "73.538765   4.213146\n",
      "76.405068   9.443897\n",
      "76.611085   9.318327\n",
      "76.355420   9.204240\n",
      "76.278020  10.043492\n",
      "76.602185   9.345429\n",
      "39.168330  21.558632\n",
      "76.230971  10.142538\n",
      "76.585708   9.350533\n",
      "76.578477   9.336828\n",
      "73.030439  18.975467\n",
      "76.271083  10.850516\n",
      "76.232669  10.167437\n",
      "76.291905  10.104048\n",
      "76.417543   9.415557\n",
      "76.785555   9.386569\n",
      "0.456092   51.568674\n",
      "76.318360  10.176042\n",
      "76.358834  10.105065\n",
      "76.267011  10.149727\n",
      "76.326099  10.108986\n",
      "76.152288  10.457511\n",
      "76.356476  10.122117\n",
      "76.577720   9.326921\n",
      "76.567065   9.372431\n",
      "76.614995   9.246593\n",
      "76.209358  10.156057\n",
      "76.611878   9.269940\n",
      "\n",
      "[6379 rows x 1 columns]\n"
     ]
    }
   ],
   "source": [
    "frame = pd.DataFrame(ult,ulg)\n",
    "print(frame)\n",
    "fil = frame.to_csv('C:/Users/Darshik/Desktop/darshik/udacity/graph.csv')"
   ]
  },
  {
   "cell_type": "code",
   "execution_count": null,
   "metadata": {},
   "outputs": [],
   "source": []
  }
 ],
 "metadata": {
  "colab": {
   "collapsed_sections": [],
   "name": "Copy of Kerala_Flood.ipynb",
   "provenance": [],
   "version": "0.3.2"
  },
  "kernelspec": {
   "display_name": "Python 3",
   "language": "python",
   "name": "python3"
  },
  "language_info": {
   "codemirror_mode": {
    "name": "ipython",
    "version": 3
   },
   "file_extension": ".py",
   "mimetype": "text/x-python",
   "name": "python",
   "nbconvert_exporter": "python",
   "pygments_lexer": "ipython3",
   "version": "3.6.5"
  }
 },
 "nbformat": 4,
 "nbformat_minor": 2
}
